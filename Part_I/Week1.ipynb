{
 "cells": [
  {
   "cell_type": "markdown",
   "metadata": {},
   "source": [
    "### 1. Existing Solution \n",
    "#### 1.1 Princeton-MIT Package \n",
    "`Overall Framework`: first object segmentation with deep learning architecture, then Pose estimation with either point cloud matching or SIFT/3DMatch;\n",
    "`Vision System`    : \n",
    "- RGB-D images from multiple views, and output 6D poses and a segmented point cloud\n",
    "- RealSense F200 RGB-D(0.2-1.5m), E3 CPU, 1080 GPU\n",
    "\n",
    "`Object Segmentation`: first 2D Segmentation on multiple-view RGB images and then combine them together into point cloud(how about occulusion? and noise?) \n",
    "`Dataset`: 136575 RGB-D Images  of 39 Objects, All automtatcially labeled \n",
    " \n",
    "             "
   ]
  },
  {
   "cell_type": "markdown",
   "metadata": {},
   "source": [
    "### 2. Critical techniques\n",
    "3D Object Detection/3D Object Labeling \n",
    "3D Segmentation \n",
    "6D Pose Estimation\n",
    "Learn to grasp(RL)\n",
    "Target Position Detection \n",
    "Transfer Learning\n"
   ]
  },
  {
   "cell_type": "markdown",
   "metadata": {},
   "source": [
    "### 3. Environment Setup with CUDA, OpenCV, caffe, ROS, Pytorch, Tensorflow, PCL\n",
    "#### 3.1 CUDA, OpenCV, Tensorflow\n",
    "Useful links:\n",
    "https://github.com/tegg89/installation-1080ti\n",
    "https://askubuntu.com/questions/61396/how-do-i-install-the-nvidia-drivers\n",
    "https://laylatadjpour.wordpress.com/2017/05/29/installing-gtx-1080-ti-drivers-cuda-8-0-on-ubuntu-16-04/\n",
    "\n",
    "1. Install CUDA, \n",
    "2. do somethings before install the driver\n",
    "3. Install driver nvidia-xxx\n",
    "Hardware: 1050 Ti/1080 Ti,\n",
    "from Nvidia website, we get to know that 384 version driver support both graphics cards\n",
    "Install CUDA(apt-get, default driver),\n",
    "\n",
    "Found after installing CUDA and then reboot, the GPU couldn't be used\n",
    "Take down GPU, then enter console mode, forbid nouveau, reinstall Nvidia Driver 384 by purge all Nvidia*, then \n",
    "sudo reboot\n",
    "\n",
    "Hardware connection:\n",
    "https://blog.csdn.net/A632189007/article/details/78144220\n",
    "\n",
    "If you want try CUDA 9, follow instructions here:\n",
    "http://sketchingdream.com/blog/1080-ti-cuda-9-0-and-graphics-driver-installation-in-ubuntu-16-04/\n",
    "#### 3.2 ROS installation\n",
    "\n",
    "#### 3.3 Torch & Pytorch\n",
    "#### 3.4 Caffe\n",
    "\n"
   ]
  },
  {
   "cell_type": "code",
   "execution_count": null,
   "metadata": {
    "collapsed": true
   },
   "outputs": [],
   "source": []
  }
 ],
 "metadata": {
  "anaconda-cloud": {},
  "kernelspec": {
   "display_name": "Python [conda root]",
   "language": "python",
   "name": "conda-root-py"
  },
  "language_info": {
   "codemirror_mode": {
    "name": "ipython",
    "version": 2
   },
   "file_extension": ".py",
   "mimetype": "text/x-python",
   "name": "python",
   "nbconvert_exporter": "python",
   "pygments_lexer": "ipython2",
   "version": "2.7.12"
  }
 },
 "nbformat": 4,
 "nbformat_minor": 2
}
