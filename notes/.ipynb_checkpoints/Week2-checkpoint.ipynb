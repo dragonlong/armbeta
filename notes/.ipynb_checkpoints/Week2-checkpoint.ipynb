{
 "cells": [
  {
   "cell_type": "markdown",
   "metadata": {},
   "source": [
    "## 1. 关于训练数据的采集与标记，处理"
   ]
  },
  {
   "cell_type": "markdown",
   "metadata": {},
   "source": [
    "### demo1 multi-view（16 MIT-princeton）\n",
    "F200 with standalone ROS package; self-supervised data;\n",
    "###### 2.1 目标数据规模：\n",
    "automatically generated 130000 images with pixel-wise category labels of 39 objects\n",
    "18个view，单物体摆放，pre-scanned 3D models of 盒子／物体\n",
    "\n",
    "###### 2.2 细节与已有进展：\n",
    "有3D online annotation tool(label benchmark)\n",
    "训练数据与测试数据在本地和云端都已经下载好\n",
    "\n",
    "###### 2.3 数据采集与标注流程：\n",
    "1. single object in the shelf bin or tote in arbitrary poses, \n",
    "2. configure the cameras move and capture from multiple views, + empty shelf or tote\n",
    "3. re-arrange objects, and label the corresponding object；\n",
    "4. substracte and get the mask for single object;\n",
    "\n",
    "So data above is used to train FCN, then we feed multiple views of images into the trained FCN, and combine \n",
    "them into PCL with the kinematics infomation, remove noises on different levels;\n",
    "1. pre-scanned background of empty shelf and tote\n",
    "\n",
    "\n",
    "3D object matching will need pre-scanned model of objects;\n",
    "1. pre-scanned objects \n",
    "\n",
    "Then benchmark with multiple objects's 6D pose and 2D Object segementation is realized via the annotation tool; \n",
    "\n",
    "\n",
    "Note: (or FAT data)\n",
    "\n",
    "\n",
    "\n"
   ]
  },
  {
   "cell_type": "markdown",
   "metadata": {},
   "source": [
    "### demo2 auto-picking and grasping （17 MIT-princeton）\n",
    "SR 300, realsense2 driver/SDK;\n",
    "2个相机做抓取，2个相机做识别与点云拼接\n",
    "有可能数据可以直接借用\n"
   ]
  },
  {
   "cell_type": "markdown",
   "metadata": {},
   "source": [
    "数据格式"
   ]
  }
 ],
 "metadata": {
  "anaconda-cloud": {},
  "kernelspec": {
   "display_name": "Python [conda root]",
   "language": "python",
   "name": "conda-root-py"
  },
  "language_info": {
   "codemirror_mode": {
    "name": "ipython",
    "version": 2
   },
   "file_extension": ".py",
   "mimetype": "text/x-python",
   "name": "python",
   "nbconvert_exporter": "python",
   "pygments_lexer": "ipython2",
   "version": "2.7.12"
  }
 },
 "nbformat": 4,
 "nbformat_minor": 2
}
