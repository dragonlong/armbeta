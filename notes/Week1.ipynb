{
 "cells": [
  {
   "cell_type": "markdown",
   "metadata": {},
   "source": [
    "### 1. Existing Solution \n",
    "#### 1.1 Princeton-MIT Package \n",
    "`Overall Framework`: first object segmentation with deep learning architecture, then Pose estimation with either point cloud matching or SIFT/3DMatch;\n",
    "`Vision System`    : \n",
    "- RGB-D images from multiple views, and output 6D poses and a segmented point cloud\n",
    "- RealSense F200 RGB-D(0.2-1.5m), E3 CPU, 1080 GPU\n",
    "\n",
    "`Object Segmentation`: first 2D Segmentation on multiple-view RGB images and then combine them together into point cloud(how about occulusion? and noise?) \n",
    "`Dataset`: 136575 RGB-D Images  of 39 Objects, All automtatcially labeled \n",
    " \n",
    "             "
   ]
  },
  {
   "cell_type": "markdown",
   "metadata": {},
   "source": [
    "### 2. Critical techniques\n",
    "##### 2.1 3D Object Detection/3D Object Labeling \n",
    "##### 2.2 3D Segmentation \n",
    "Here we use Pointnet++\n",
    "##### 2.3 6D Pose Estimation\n",
    "##### 2.4 Learn to grasp(RL)\n",
    "##### 2.5 Target Position Detection \n",
    "##### 2.6 Transfer Learning\n"
   ]
  },
  {
   "cell_type": "markdown",
   "metadata": {},
   "source": [
    "### 3. Environment Setup with CUDA, OpenCV, caffe, ROS, Pytorch, Tensorflow, PCL\n",
    "#### 3.1 CUDA, OpenCV, Tensorflow\n",
    "Useful link\n",
    "https://github.com/tegg89/installation-1080ti\n",
    "\n",
    "https://askubuntu.com/questions/61396/how-do-i-install-the-nvidia-drivers\n",
    "\n",
    "https://laylatadjpour.wordpress.com/2017/05/29/installing-gtx-1080-ti-drivers-cuda-8-0-on-ubuntu-16-04/\n",
    "\n",
    "https://blog.nelsonliu.me/2017/04/29/installing-and-updating-gtx-1080-ti-cuda-drivers-on-ubuntu/\n",
    "\n",
    "1. Install CUDA, \n",
    "2. do somethings before install the driver\n",
    "3. Install driver nvidia-xxx\n",
    "Hardware: 1050 Ti/1080 Ti,\n",
    "from Nvidia website, we get to know that 384 version driver support both graphics cards\n",
    "Install CUDA(apt-get, default driver),\n",
    "\n",
    "Found after installing CUDA and then reboot, the GPU couldn't be used\n",
    "Take down GPU, then enter console mode, forbid nouveau, reinstall Nvidia Driver 384 by purge all Nvidia*, then \n",
    "sudo reboot\n",
    "\n",
    "Hardware connection:\n",
    "https://blog.csdn.net/A632189007/article/details/78144220\n",
    "\n",
    "If you want to try CUDA 9, follow instructions here:\n",
    "http://sketchingdream.com/blog/1080-ti-cuda-9-0-and-graphics-driver-installation-in-ubuntu-16-04/\n",
    "\n",
    "If you want to try CUDA 7.5, you have to use Ubuntu 14.04 or 15.04, following instructions here:\n",
    "https://kislayabhi.github.io/Installing_CUDA_with_Ubuntu/\n",
    "\n",
    "#### 3.2 ROS installation\n",
    "Use install_ros1.sh, and then install_ros2.sh(after reboot), install kinetic on Ubuntu16.04\n",
    "Note: \n",
    "1. As for the problem of openCV conflict to tensorflow, refer to [here](https://stackoverflow.com/questions/43019951/after-install-ros-kinetic-cannot-import-opencv) for help \n",
    "2. If you are installing ROS on Ubuntu 14.04, install indigo instead\n",
    "\n",
    "#### 3.3 Torch & Pytorch\n",
    "#### 3.4 Caffe\n",
    "\n"
   ]
  },
  {
   "cell_type": "code",
   "execution_count": null,
   "metadata": {
    "collapsed": true
   },
   "outputs": [],
   "source": []
  }
 ],
 "metadata": {
  "anaconda-cloud": {},
  "kernelspec": {
   "display_name": "Python [conda root]",
   "language": "python",
   "name": "conda-root-py"
  },
  "language_info": {
   "codemirror_mode": {
    "name": "ipython",
    "version": 2
   },
   "file_extension": ".py",
   "mimetype": "text/x-python",
   "name": "python",
   "nbconvert_exporter": "python",
   "pygments_lexer": "ipython2",
   "version": "2.7.12"
  }
 },
 "nbformat": 4,
 "nbformat_minor": 2
}
